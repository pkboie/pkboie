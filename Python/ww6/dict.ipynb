{
 "cells": [
  {
   "cell_type": "code",
   "execution_count": 1,
   "metadata": {},
   "outputs": [],
   "source": [
    "english = {'one':1, 'pan':'鍋子', 'cabbage':'高麗菜', 'pie':'派餅'}\n",
    "spanish = {'uno':1, 'pan':'麵包', 'col':'高麗菜', 'pie':'腳'}\n",
    "french = {'une':1, 'toi':'你', 'col':'衣領', 'pie':'鵲'}"
   ]
  },
  {
   "cell_type": "code",
   "execution_count": 2,
   "metadata": {},
   "outputs": [],
   "source": [
    "def LookupDicts(word):\n",
    "    outlist = []\n",
    "    if word in english:\n",
    "        outlist.append(f'{word}in English: {english[word]}')\n",
    "    if word in spanish:\n",
    "        outlist.append(f'in Spainsh: {spanish[word]}')\n",
    "    if word in french:\n",
    "        outlist.append(f'in French: {french[word]}')\n",
    "    return outlist"
   ]
  },
  {
   "cell_type": "code",
   "execution_count": 5,
   "metadata": {},
   "outputs": [
    {
     "name": "stdout",
     "output_type": "stream",
     "text": [
      "in Spainsh: 1\n"
     ]
    }
   ],
   "source": [
    "word = input('enter word to look up :')\n",
    "outlist = LookupDicts(word)\n",
    "if not outlist:\n",
    "    print(f'{word} not found in dictionary')\n",
    "else:\n",
    "    print('\\n'.join(outlist))"
   ]
  },
  {
   "cell_type": "code",
   "execution_count": null,
   "metadata": {},
   "outputs": [],
   "source": []
  }
 ],
 "metadata": {
  "kernelspec": {
   "display_name": "Python 3",
   "language": "python",
   "name": "python3"
  },
  "language_info": {
   "codemirror_mode": {
    "name": "ipython",
    "version": 3
   },
   "file_extension": ".py",
   "mimetype": "text/x-python",
   "name": "python",
   "nbconvert_exporter": "python",
   "pygments_lexer": "ipython3",
   "version": "3.10.12"
  }
 },
 "nbformat": 4,
 "nbformat_minor": 2
}
